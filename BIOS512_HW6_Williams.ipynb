{
 "cells": [
  {
   "cell_type": "markdown",
   "id": "197d77a8-3172-4280-8b82-d0c2cbc7c2c5",
   "metadata": {},
   "source": [
    "BIOS 512\n",
    "Homework 6\n",
    "Bella Williams"
   ]
  },
  {
   "cell_type": "markdown",
   "id": "91888473-6673-4746-a1c1-69e08f382f5d",
   "metadata": {},
   "source": [
    "Question 1"
   ]
  },
  {
   "cell_type": "code",
   "execution_count": 2,
   "id": "7c1d7635-79a7-4e56-b26e-c8e50ac180d1",
   "metadata": {},
   "outputs": [],
   "source": [
    "invisible({\n",
    "suppressPackageStartupMessages(library(tidyverse))\n",
    "\n",
    "dialogs <- read_csv(\n",
    "  \"https://raw.githubusercontent.com/Vincent-Toups/bios512/fcbc65a2696c7cff80d0f6ed1dd5c97abf0ef800/effective-visualization/source_data/tng.csv\",\n",
    "  show_col_types = FALSE\n",
    ")\n",
    "\n",
    "dialogs %>% group_by(character) %>% tally() %>% arrange(desc(n))\n",
    "dialogs %>% \n",
    "  mutate(dialog_length=str_length(dialog)) %>% \n",
    "  group_by(character) %>% \n",
    "  summarize(mean_dialog_length = mean(dialog_length)) %>% \n",
    "  arrange(desc(mean_dialog_length))\n",
    "\n",
    "dialogs_fixed <- dialogs %>%\n",
    "  mutate(\n",
    "    character = str_replace_all(character, \"'S.*$\", \"\"),\n",
    "    character = str_replace_all(character, \" VOICE\", \"\"),\n",
    "    character = str_replace_all(character, \"\\\\.\", \"\"),\n",
    "    character = str_replace_all(character, \"'\", \"\"),\n",
    "    character = str_replace_all(character, \"S COM\", \"\"),\n",
    "    character = str_replace_all(character, \" COM\", \"\"),\n",
    "\n",
    "    dialog_length = str_length(dialog)\n",
    "  ) %>%\n",
    "\n",
    "  filter(character %in% unlist(str_split(\"PICARD RIKER DATA TROI BEVERLY WORF WESLEY GEORDI\", \" \")))\n",
    "\n",
    "dialogs_fixed %>% \n",
    "  group_by(character) %>% \n",
    "  summarize(\n",
    "    mean_dialog_length = mean(dialog_length), \n",
    "    std_dialog_length=sd(dialog_length)\n",
    "  ) %>% \n",
    "  arrange(desc(mean_dialog_length))\n",
    "\n",
    "dialog_len_per_ep <- dialogs_fixed %>% \n",
    "    group_by(character, episode_number) %>% \n",
    "    summarize(\n",
    "        mean_dialog_length = mean(dialog_length), \n",
    "        std_dialog_length = sd(dialog_length),\n",
    "        dialog_count = n(),\n",
    "        .groups = \"drop\"\n",
    "    ) %>% \n",
    "    arrange(desc(mean_dialog_length))\n",
    "\n",
    "ggplot(dialog_len_per_ep, aes(dialog_count, mean_dialog_length)) + \n",
    "  geom_point(aes(color=character)) + \n",
    "  facet_wrap(~character)\n",
    "\n",
    "dialog_len_per_ep\n",
    "\n",
    "ggplot(dialogs_fixed) + \n",
    "  geom_density(aes(x=dialog_length))\n",
    "\n",
    "for_factor <- dialog_len_per_ep %>% \n",
    "  group_by(character) %>% \n",
    "  summarise(m=mean(mean_dialog_length)) %>% \n",
    "  arrange(desc(m))\n",
    "  \n",
    "ggplot(dialog_len_per_ep, aes(factor(character,for_factor$character), mean_dialog_length)) + \n",
    "  geom_boxplot()\n",
    "\n",
    "})\n"
   ]
  },
  {
   "cell_type": "markdown",
   "id": "93f6b7e5-aa0e-4ec9-a70a-e10620a47d2e",
   "metadata": {},
   "source": [
    "Question 1"
   ]
  },
  {
   "cell_type": "markdown",
   "id": "47b98795-895c-4b42-a4d5-373f9f7f807a",
   "metadata": {},
   "source": [
    "PICARD speaks frequently and gives long, substantial monologues. It is likely that he is a primary character. DATA, WORF, and RIKER speak frequently but in shorter sections. It is likely their dialogue is more functional. BEVERLY, GEORFI, and TROI speak less often but for longer lengths of time. Perhaps they are engaging in deeper discussion with PICARD to help drive the plot. WESLEY seems to be a minor character as her has both a low number of lines and short average length of lines."
   ]
  },
  {
   "cell_type": "markdown",
   "id": "3cab942e-1804-4b86-b6ee-f3853f89bdd7",
   "metadata": {},
   "source": [
    "Question 2"
   ]
  },
  {
   "cell_type": "markdown",
   "id": "0b4ad38b-de1b-4549-a850-3b27730fdb17",
   "metadata": {},
   "source": [
    "A)"
   ]
  },
  {
   "cell_type": "code",
   "execution_count": 3,
   "id": "4de9d5be-e57a-40bd-9ed9-58dc4963ed3a",
   "metadata": {},
   "outputs": [
    {
     "data": {
      "text/html": [
       "<table class=\"dataframe\">\n",
       "<caption>A tibble: 2 × 3</caption>\n",
       "<thead>\n",
       "\t<tr><th scope=col>season</th><th scope=col>mean_dialog_length_overall</th><th scope=col>mean_dialog_count_overall</th></tr>\n",
       "\t<tr><th scope=col>&lt;chr&gt;</th><th scope=col>&lt;dbl&gt;</th><th scope=col>&lt;dbl&gt;</th></tr>\n",
       "</thead>\n",
       "<tbody>\n",
       "\t<tr><td>Season 1</td><td>56.48460</td><td>25.40</td></tr>\n",
       "\t<tr><td>Season 3</td><td>67.04817</td><td>19.64</td></tr>\n",
       "</tbody>\n",
       "</table>\n"
      ],
      "text/latex": [
       "A tibble: 2 × 3\n",
       "\\begin{tabular}{lll}\n",
       " season & mean\\_dialog\\_length\\_overall & mean\\_dialog\\_count\\_overall\\\\\n",
       " <chr> & <dbl> & <dbl>\\\\\n",
       "\\hline\n",
       "\t Season 1 & 56.48460 & 25.40\\\\\n",
       "\t Season 3 & 67.04817 & 19.64\\\\\n",
       "\\end{tabular}\n"
      ],
      "text/markdown": [
       "\n",
       "A tibble: 2 × 3\n",
       "\n",
       "| season &lt;chr&gt; | mean_dialog_length_overall &lt;dbl&gt; | mean_dialog_count_overall &lt;dbl&gt; |\n",
       "|---|---|---|\n",
       "| Season 1 | 56.48460 | 25.40 |\n",
       "| Season 3 | 67.04817 | 19.64 |\n",
       "\n"
      ],
      "text/plain": [
       "  season   mean_dialog_length_overall mean_dialog_count_overall\n",
       "1 Season 1 56.48460                   25.40                    \n",
       "2 Season 3 67.04817                   19.64                    "
      ]
     },
     "metadata": {},
     "output_type": "display_data"
    }
   ],
   "source": [
    "beverly_dialogs <- dialogs_fixed %>%\n",
    "    filter(\n",
    "        character == \"BEVERLY\",\n",
    "        episode_number >= 102 & episode_number <= 126 | # Season 1 range\n",
    "        episode_number >= 149 & episode_number <= 174   # Season 3 range\n",
    "    )\n",
    "\n",
    "beverly_dialogs_with_season <- beverly_dialogs %>%\n",
    "    mutate(\n",
    "        season = case_when(\n",
    "            episode_number >= 102 & episode_number <= 126 ~ \"Season 1\",\n",
    "            episode_number >= 149 & episode_number <= 174 ~ \"Season 3\",\n",
    "            TRUE ~ NA_character_ # Should not happen based on the filter\n",
    "        )\n",
    "    )\n",
    "\n",
    "beverly_ep_stats <- beverly_dialogs_with_season %>%\n",
    "    group_by(season, episode_number) %>%\n",
    "    summarize(\n",
    "        mean_dialog_length_per_ep = mean(dialog_length),\n",
    "        dialog_count_per_ep = n(),\n",
    "        .groups = \"drop\"\n",
    "    )\n",
    "\n",
    "beverly_season_comparison <- beverly_ep_stats %>%\n",
    "    group_by(season) %>%\n",
    "    summarize(\n",
    "        mean_dialog_length_overall = mean(mean_dialog_length_per_ep),\n",
    "        mean_dialog_count_overall = mean(dialog_count_per_ep),\n",
    "        .groups = \"drop\"\n",
    "    )\n",
    "\n",
    "beverly_season_comparison"
   ]
  },
  {
   "cell_type": "markdown",
   "id": "d07a4883-6c95-4f3c-ab84-e7ac90cba55f",
   "metadata": {},
   "source": [
    "B)\n",
    "The table shows that BEVERLY's mean dialog length increased from 56.5 to 67.0. Longer dialogue is typically given to primary/complex characters. However, her mean dialog count per episode decreased from 25.4 to 19.6. This indicates that she is speaking less frequently overall. When observing these two data points together, one can expect that the lines spoken are more impactful and authoritative. This type of dialogue is often given to \"male\" roles in this genre. The increase from season 1 to season 3 aligns with BEVERLY's perception of becoming a more central character, likely driving the plot/narrative. "
   ]
  },
  {
   "cell_type": "markdown",
   "id": "5d56dd4d-772b-4a4b-8daf-1fe25d88bedd",
   "metadata": {},
   "source": [
    "Question 3"
   ]
  },
  {
   "cell_type": "markdown",
   "id": "29b9a51c-becc-48ea-9f38-89d094c8e10e",
   "metadata": {},
   "source": [
    "A)"
   ]
  },
  {
   "cell_type": "code",
   "execution_count": 4,
   "id": "6aa16298-2eec-4f97-8e48-15878e60785a",
   "metadata": {},
   "outputs": [],
   "source": [
    "stop_words <- c(\n",
    "  \"i\",\"me\",\"my\",\"myself\",\"we\",\"our\",\"ours\",\"ourselves\",\"you\",\"your\",\"yours\",\"yourself\",\n",
    "  \"yourselves\",\"he\",\"him\",\"his\",\"himself\",\"she\",\"her\",\"hers\",\"herself\",\"it\",\"its\",\"itself\",\n",
    "  \"they\",\"them\",\"their\",\"theirs\",\"themselves\",\"what\",\"which\",\"who\",\"whom\",\"this\",\"that\",\n",
    "  \"these\",\"those\",\"am\",\"is\",\"are\",\"was\",\"were\",\"be\",\"been\",\"being\",\"have\",\"has\",\"had\",\n",
    "  \"having\",\"do\",\"does\",\"did\",\"doing\",\"a\",\"an\",\"the\",\"and\",\"but\",\"if\",\"or\",\"because\",\"as\",\n",
    "  \"until\",\"while\",\"of\",\"at\",\"by\",\"for\",\"with\",\"about\",\"against\",\"between\",\"into\",\"through\",\n",
    "  \"during\",\"before\",\"after\",\"above\",\"below\",\"to\",\"from\",\"up\",\"down\",\"in\",\"out\",\"on\",\"off\",\n",
    "  \"over\",\"under\",\"again\",\"further\",\"then\",\"once\",\"here\",\"there\",\"when\",\"where\",\"why\",\"how\",\n",
    "  \"all\",\"any\",\"both\",\"each\",\"few\",\"more\",\"most\",\"other\",\"some\",\"such\",\"no\",\"nor\",\"not\",\n",
    "  \"only\",\"own\",\"same\",\"so\",\"than\",\"too\",\"very\",\"s\",\"t\",\"can\",\"will\",\"just\",\"don\",\"should\",\"now\"\n",
    ")\n",
    "\n",
    "tokens <- dialogs_fixed %>%\n",
    "  mutate(word_list = str_split(dialog, \"\\\\s+\")) %>%\n",
    "\n",
    "  unnest(word_list) %>%\n",
    "\n",
    "  mutate(\n",
    "    word = str_remove_all(word_list, \"[[:punct:]]\"),\n",
    "    word = str_to_lower(word)                      \n",
    "  ) %>%\n",
    "\n",
    "  filter(word != \"\", !word %in% stop_words)"
   ]
  },
  {
   "cell_type": "markdown",
   "id": "41885fc5-0926-4ce9-a2f6-c28728e641ea",
   "metadata": {},
   "source": [
    "B)"
   ]
  },
  {
   "cell_type": "code",
   "execution_count": 5,
   "id": "d9b01b8d-a44c-4cab-a461-b8a74729b87e",
   "metadata": {},
   "outputs": [
    {
     "data": {
      "text/html": [
       "<table class=\"dataframe\">\n",
       "<caption>A tibble: 8 × 4</caption>\n",
       "<thead>\n",
       "\t<tr><th scope=col>character</th><th scope=col>total_words</th><th scope=col>unique_words</th><th scope=col>vocabulary_richness</th></tr>\n",
       "\t<tr><th scope=col>&lt;chr&gt;</th><th scope=col>&lt;int&gt;</th><th scope=col>&lt;int&gt;</th><th scope=col>&lt;dbl&gt;</th></tr>\n",
       "</thead>\n",
       "<tbody>\n",
       "\t<tr><td>WESLEY </td><td> 7601</td><td>2291</td><td>0.3014077</td></tr>\n",
       "\t<tr><td>WORF   </td><td>18820</td><td>4318</td><td>0.2294368</td></tr>\n",
       "\t<tr><td>TROI   </td><td>19450</td><td>4187</td><td>0.2152699</td></tr>\n",
       "\t<tr><td>BEVERLY</td><td>22900</td><td>4875</td><td>0.2128821</td></tr>\n",
       "\t<tr><td>DATA   </td><td>45462</td><td>8593</td><td>0.1890150</td></tr>\n",
       "\t<tr><td>GEORDI </td><td>31978</td><td>5465</td><td>0.1708987</td></tr>\n",
       "\t<tr><td>RIKER  </td><td>41827</td><td>6458</td><td>0.1543979</td></tr>\n",
       "\t<tr><td>PICARD </td><td>79214</td><td>9272</td><td>0.1170500</td></tr>\n",
       "</tbody>\n",
       "</table>\n"
      ],
      "text/latex": [
       "A tibble: 8 × 4\n",
       "\\begin{tabular}{llll}\n",
       " character & total\\_words & unique\\_words & vocabulary\\_richness\\\\\n",
       " <chr> & <int> & <int> & <dbl>\\\\\n",
       "\\hline\n",
       "\t WESLEY  &  7601 & 2291 & 0.3014077\\\\\n",
       "\t WORF    & 18820 & 4318 & 0.2294368\\\\\n",
       "\t TROI    & 19450 & 4187 & 0.2152699\\\\\n",
       "\t BEVERLY & 22900 & 4875 & 0.2128821\\\\\n",
       "\t DATA    & 45462 & 8593 & 0.1890150\\\\\n",
       "\t GEORDI  & 31978 & 5465 & 0.1708987\\\\\n",
       "\t RIKER   & 41827 & 6458 & 0.1543979\\\\\n",
       "\t PICARD  & 79214 & 9272 & 0.1170500\\\\\n",
       "\\end{tabular}\n"
      ],
      "text/markdown": [
       "\n",
       "A tibble: 8 × 4\n",
       "\n",
       "| character &lt;chr&gt; | total_words &lt;int&gt; | unique_words &lt;int&gt; | vocabulary_richness &lt;dbl&gt; |\n",
       "|---|---|---|---|\n",
       "| WESLEY  |  7601 | 2291 | 0.3014077 |\n",
       "| WORF    | 18820 | 4318 | 0.2294368 |\n",
       "| TROI    | 19450 | 4187 | 0.2152699 |\n",
       "| BEVERLY | 22900 | 4875 | 0.2128821 |\n",
       "| DATA    | 45462 | 8593 | 0.1890150 |\n",
       "| GEORDI  | 31978 | 5465 | 0.1708987 |\n",
       "| RIKER   | 41827 | 6458 | 0.1543979 |\n",
       "| PICARD  | 79214 | 9272 | 0.1170500 |\n",
       "\n"
      ],
      "text/plain": [
       "  character total_words unique_words vocabulary_richness\n",
       "1 WESLEY     7601       2291         0.3014077          \n",
       "2 WORF      18820       4318         0.2294368          \n",
       "3 TROI      19450       4187         0.2152699          \n",
       "4 BEVERLY   22900       4875         0.2128821          \n",
       "5 DATA      45462       8593         0.1890150          \n",
       "6 GEORDI    31978       5465         0.1708987          \n",
       "7 RIKER     41827       6458         0.1543979          \n",
       "8 PICARD    79214       9272         0.1170500          "
      ]
     },
     "metadata": {},
     "output_type": "display_data"
    },
    {
     "data": {
      "text/html": [
       "<table class=\"dataframe\">\n",
       "<caption>A tibble: 6 × 6</caption>\n",
       "<thead>\n",
       "\t<tr><th scope=col>episode_number</th><th scope=col>character</th><th scope=col>dialog</th><th scope=col>dialog_length</th><th scope=col>word_list</th><th scope=col>word</th></tr>\n",
       "\t<tr><th scope=col>&lt;dbl&gt;</th><th scope=col>&lt;chr&gt;</th><th scope=col>&lt;chr&gt;</th><th scope=col>&lt;int&gt;</th><th scope=col>&lt;chr&gt;</th><th scope=col>&lt;chr&gt;</th></tr>\n",
       "</thead>\n",
       "<tbody>\n",
       "\t<tr><td>102</td><td>PICARD</td><td>Captain's log, stardate 42353.7. Our destination is planet Cygnus IV, beyond which lies the great unexplored mass of the galaxy.</td><td>128</td><td>Captain's  </td><td>captains   </td></tr>\n",
       "\t<tr><td>102</td><td>PICARD</td><td>Captain's log, stardate 42353.7. Our destination is planet Cygnus IV, beyond which lies the great unexplored mass of the galaxy.</td><td>128</td><td>log,       </td><td>log        </td></tr>\n",
       "\t<tr><td>102</td><td>PICARD</td><td>Captain's log, stardate 42353.7. Our destination is planet Cygnus IV, beyond which lies the great unexplored mass of the galaxy.</td><td>128</td><td>stardate   </td><td>stardate   </td></tr>\n",
       "\t<tr><td>102</td><td>PICARD</td><td>Captain's log, stardate 42353.7. Our destination is planet Cygnus IV, beyond which lies the great unexplored mass of the galaxy.</td><td>128</td><td>42353.7.   </td><td>423537     </td></tr>\n",
       "\t<tr><td>102</td><td>PICARD</td><td>Captain's log, stardate 42353.7. Our destination is planet Cygnus IV, beyond which lies the great unexplored mass of the galaxy.</td><td>128</td><td>destination</td><td>destination</td></tr>\n",
       "\t<tr><td>102</td><td>PICARD</td><td>Captain's log, stardate 42353.7. Our destination is planet Cygnus IV, beyond which lies the great unexplored mass of the galaxy.</td><td>128</td><td>planet     </td><td>planet     </td></tr>\n",
       "</tbody>\n",
       "</table>\n"
      ],
      "text/latex": [
       "A tibble: 6 × 6\n",
       "\\begin{tabular}{llllll}\n",
       " episode\\_number & character & dialog & dialog\\_length & word\\_list & word\\\\\n",
       " <dbl> & <chr> & <chr> & <int> & <chr> & <chr>\\\\\n",
       "\\hline\n",
       "\t 102 & PICARD & Captain's log, stardate 42353.7. Our destination is planet Cygnus IV, beyond which lies the great unexplored mass of the galaxy. & 128 & Captain's   & captains   \\\\\n",
       "\t 102 & PICARD & Captain's log, stardate 42353.7. Our destination is planet Cygnus IV, beyond which lies the great unexplored mass of the galaxy. & 128 & log,        & log        \\\\\n",
       "\t 102 & PICARD & Captain's log, stardate 42353.7. Our destination is planet Cygnus IV, beyond which lies the great unexplored mass of the galaxy. & 128 & stardate    & stardate   \\\\\n",
       "\t 102 & PICARD & Captain's log, stardate 42353.7. Our destination is planet Cygnus IV, beyond which lies the great unexplored mass of the galaxy. & 128 & 42353.7.    & 423537     \\\\\n",
       "\t 102 & PICARD & Captain's log, stardate 42353.7. Our destination is planet Cygnus IV, beyond which lies the great unexplored mass of the galaxy. & 128 & destination & destination\\\\\n",
       "\t 102 & PICARD & Captain's log, stardate 42353.7. Our destination is planet Cygnus IV, beyond which lies the great unexplored mass of the galaxy. & 128 & planet      & planet     \\\\\n",
       "\\end{tabular}\n"
      ],
      "text/markdown": [
       "\n",
       "A tibble: 6 × 6\n",
       "\n",
       "| episode_number &lt;dbl&gt; | character &lt;chr&gt; | dialog &lt;chr&gt; | dialog_length &lt;int&gt; | word_list &lt;chr&gt; | word &lt;chr&gt; |\n",
       "|---|---|---|---|---|---|\n",
       "| 102 | PICARD | Captain's log, stardate 42353.7. Our destination is planet Cygnus IV, beyond which lies the great unexplored mass of the galaxy. | 128 | Captain's   | captains    |\n",
       "| 102 | PICARD | Captain's log, stardate 42353.7. Our destination is planet Cygnus IV, beyond which lies the great unexplored mass of the galaxy. | 128 | log,        | log         |\n",
       "| 102 | PICARD | Captain's log, stardate 42353.7. Our destination is planet Cygnus IV, beyond which lies the great unexplored mass of the galaxy. | 128 | stardate    | stardate    |\n",
       "| 102 | PICARD | Captain's log, stardate 42353.7. Our destination is planet Cygnus IV, beyond which lies the great unexplored mass of the galaxy. | 128 | 42353.7.    | 423537      |\n",
       "| 102 | PICARD | Captain's log, stardate 42353.7. Our destination is planet Cygnus IV, beyond which lies the great unexplored mass of the galaxy. | 128 | destination | destination |\n",
       "| 102 | PICARD | Captain's log, stardate 42353.7. Our destination is planet Cygnus IV, beyond which lies the great unexplored mass of the galaxy. | 128 | planet      | planet      |\n",
       "\n"
      ],
      "text/plain": [
       "  episode_number character\n",
       "1 102            PICARD   \n",
       "2 102            PICARD   \n",
       "3 102            PICARD   \n",
       "4 102            PICARD   \n",
       "5 102            PICARD   \n",
       "6 102            PICARD   \n",
       "  dialog                                                                                                                          \n",
       "1 Captain's log, stardate 42353.7. Our destination is planet Cygnus IV, beyond which lies the great unexplored mass of the galaxy.\n",
       "2 Captain's log, stardate 42353.7. Our destination is planet Cygnus IV, beyond which lies the great unexplored mass of the galaxy.\n",
       "3 Captain's log, stardate 42353.7. Our destination is planet Cygnus IV, beyond which lies the great unexplored mass of the galaxy.\n",
       "4 Captain's log, stardate 42353.7. Our destination is planet Cygnus IV, beyond which lies the great unexplored mass of the galaxy.\n",
       "5 Captain's log, stardate 42353.7. Our destination is planet Cygnus IV, beyond which lies the great unexplored mass of the galaxy.\n",
       "6 Captain's log, stardate 42353.7. Our destination is planet Cygnus IV, beyond which lies the great unexplored mass of the galaxy.\n",
       "  dialog_length word_list   word       \n",
       "1 128           Captain's   captains   \n",
       "2 128           log,        log        \n",
       "3 128           stardate    stardate   \n",
       "4 128           42353.7.    423537     \n",
       "5 128           destination destination\n",
       "6 128           planet      planet     "
      ]
     },
     "metadata": {},
     "output_type": "display_data"
    }
   ],
   "source": [
    "vocabulary_richness <- tokens %>%\n",
    "  group_by(character) %>%\n",
    "  summarize(\n",
    "    total_words = n(),                      \n",
    "    unique_words = n_distinct(word),        \n",
    "    vocabulary_richness = unique_words / total_words \n",
    "  ) %>%\n",
    "  arrange(desc(vocabulary_richness))         \n",
    "\n",
    "vocabulary_richness\n",
    "\n",
    "head(tokens)"
   ]
  },
  {
   "cell_type": "markdown",
   "id": "37e6c69a-2c2f-466f-a35c-2edf8f482f52",
   "metadata": {},
   "source": [
    "C)"
   ]
  },
  {
   "cell_type": "code",
   "execution_count": 6,
   "id": "e0adf8f4-aa79-4cc7-b3c7-06b7cca60191",
   "metadata": {},
   "outputs": [
    {
     "data": {
      "image/png": "[encoded data removed]",
      "text/plain": [
       "plot without title"
      ]
     },
     "metadata": {
      "image/png": {
       "height": 420,
       "width": 420
      }
     },
     "output_type": "display_data"
    }
   ],
   "source": [
    "library(ggplot2)\n",
    "\n",
    "vocabulary_richness <- data.frame(\n",
    "  character = c(\"WESLEY\", \"WORF\", \"TROI\", \"BEVERLY\", \"DATA\", \"GEORDI\", \"RIKER\", \"PICARD\"),\n",
    "  total_words = c(7601L, 18820L, 19450L, 22900L, 45462L, 31978L, 41827L, 79214L),\n",
    "  unique_words = c(2291L, 4318L, 4187L, 4875L, 8593L, 5465L, 6458L, 9272L),\n",
    "  vocabulary_richness = c(0.301, 0.229, 0.215, 0.213, 0.189, 0.171, 0.154, 0.117)\n",
    ")\n",
    "\n",
    "ggplot(vocabulary_richness, aes(x = total_words, y = vocabulary_richness)) +\n",
    "\n",
    "  geom_text(aes(label = character), \n",
    "            size = 4, \n",
    "            color = \"#1E88E5\", \n",
    "            fontface = \"bold\") +\n",
    "\n",
    "  labs(\n",
    "    title = \"Vocabulary Richness vs. Total Words by Character\",\n",
    "    x = \"Total Words Spoken (After Stopword Removal)\",\n",
    "    y = \"Vocabulary Richness (Unique Words / Total Words)\"\n",
    "  ) +\n",
    "\n",
    "  theme_minimal() +\n",
    "\n",
    "  theme(\n",
    "    legend.position = \"none\",\n",
    "    plot.title = element_text(hjust = 0.5, face = \"bold\", size = 16),\n",
    "    axis.title = element_text(size = 12),\n",
    "    panel.grid.minor = element_blank()\n",
    "  )"
   ]
  },
  {
   "cell_type": "markdown",
   "id": "4875bac3-9df6-47bf-b8e8-19fc31ac3021",
   "metadata": {},
   "source": [
    "D)\n",
    "On the plot we see Total Words Spoken on the x axis and Vocabulary Richness on the y axis. WESLEY, WORF, TROI, and BEVERLY have relatively low total word counts (under 20,000) but high vocabulary richness (0.30). WESLEY emerges as an extreme outlier of the group. It is likely that when these characters speak, their dialogue is less repetitive and extremely concentrated. PICARD, on the other hand, sits at the other extreme with by far the largest total word count (80,000), but lowest vocabulary richness (under 0.15). I expect much of his dialogue is repreated phrases, which would drive down his unique word-to-total-word ratio. DATA, RIKER, and GEORDI lie in the middle of the plot. It is likely that their mid-tier word count contains a more balanced mix of unique jargon and commonly repeated phrases."
   ]
  },
  {
   "cell_type": "markdown",
   "id": "04630a8d-1e16-4fae-9112-b75ab9d0c930",
   "metadata": {},
   "source": [
    "Question 4"
   ]
  },
  {
   "cell_type": "code",
   "execution_count": 7,
   "id": "fb8e86dd-2724-4089-aae6-a534ba168473",
   "metadata": {},
   "outputs": [
    {
     "name": "stdout",
     "output_type": "stream",
     "text": [
      "    episode_number dialog_count\n",
      "1              175           18\n",
      "2              176            6\n",
      "3              177            9\n",
      "4              178            6\n",
      "5              179           38\n",
      "6              180            0\n",
      "7              181            2\n",
      "8              182            0\n",
      "9              183           94\n",
      "10             184            0\n",
      "11             185            0\n",
      "12             186            0\n",
      "13             187            0\n",
      "14             188            0\n",
      "15             189            0\n",
      "16             190            0\n",
      "17             191            0\n",
      "18             192            0\n",
      "19             193            0\n",
      "20             194            0\n",
      "21             195            0\n",
      "22             196            0\n",
      "23             197            0\n",
      "24             198            0\n",
      "25             199            0\n",
      "26             200            0\n",
      "27             201            0\n",
      "28             202            0\n",
      "29             203            0\n",
      "30             204            0\n",
      "31             205            0\n",
      "32             206          131\n",
      "33             207            0\n",
      "34             208            0\n",
      "35             209            0\n",
      "36             210            0\n",
      "37             211            0\n",
      "38             212            0\n",
      "39             213            0\n",
      "40             214            0\n",
      "41             215            0\n",
      "42             216            0\n",
      "43             217            0\n",
      "44             218            0\n",
      "45             219           71\n",
      "46             220            0\n",
      "47             221            0\n",
      "48             222            0\n",
      "49             223            0\n",
      "50             224            0\n",
      "51             225            0\n",
      "52             226            0\n",
      "53             227            0\n",
      "54             228            0\n",
      "55             229            0\n",
      "56             230            0\n",
      "57             231            0\n",
      "58             232            0\n",
      "59             233            0\n",
      "60             234            0\n",
      "61             235            0\n",
      "62             236            0\n",
      "63             237            0\n",
      "64             238            0\n",
      "65             239            0\n",
      "66             240            0\n",
      "67             241            0\n",
      "68             242            0\n",
      "69             243            0\n",
      "70             244            0\n",
      "71             245            0\n",
      "72             246            0\n",
      "73             247            0\n",
      "74             248            0\n",
      "75             249            0\n",
      "76             250            0\n",
      "77             251            0\n",
      "78             252            0\n",
      "79             253            0\n",
      "80             254            0\n",
      "81             255            0\n",
      "82             256            0\n",
      "83             257            0\n",
      "84             258            0\n",
      "85             259            0\n",
      "86             260            0\n",
      "87             261            0\n",
      "88             262            0\n",
      "89             263           18\n",
      "90             264            0\n",
      "91             265            0\n",
      "92             266            0\n",
      "93             267            0\n",
      "94             268            0\n",
      "95             269            0\n",
      "96             270            0\n",
      "97             271            0\n",
      "98             272           97\n",
      "99             273            0\n",
      "100            274            0\n",
      "101            275            0\n",
      "102            276            0\n"
     ]
    }
   ],
   "source": [
    "library(tidyverse)\n",
    "\n",
    "start_of_season_4 <- 175\n",
    "\n",
    "wesley_post_s3_dialogs <- dialogs_fixed %>%\n",
    "    filter(\n",
    "        character == \"WESLEY\",\n",
    "        episode_number >= start_of_season_4\n",
    "    )\n",
    "\n",
    "wesley_dialog_count_post_s3 <- wesley_post_s3_dialogs %>%\n",
    "\n",
    "    group_by(episode_number) %>%\n",
    "    summarize(\n",
    "        dialog_count = n(),\n",
    "        .groups = \"drop\"\n",
    "    )\n",
    "\n",
    "all_post_s3_episodes <- data.frame(episode_number = start_of_season_4:276)\n",
    "\n",
    "wesley_full_ep_list <- all_post_s3_episodes %>%\n",
    "    left_join(wesley_dialog_count_post_s3, by = \"episode_number\") %>%\n",
    "\n",
    "    mutate(dialog_count = replace_na(dialog_count, 0)) %>%\n",
    "\n",
    "    filter(episode_number <= 276) \n",
    "\n",
    "print(as.data.frame(wesley_full_ep_list))"
   ]
  },
  {
   "cell_type": "markdown",
   "id": "7303e928-2fc8-44f0-81b3-06decda2372c",
   "metadata": {},
   "source": [
    "Episode 183"
   ]
  },
  {
   "cell_type": "markdown",
   "id": "af0c30f0-036e-4680-aec3-66d32bec0d40",
   "metadata": {},
   "source": [
    "B) Episode 206"
   ]
  },
  {
   "cell_type": "markdown",
   "id": "e25b4af1-a962-4115-a382-c51ce33f3ef8",
   "metadata": {},
   "source": [
    "C)"
   ]
  },
  {
   "cell_type": "code",
   "execution_count": 9,
   "id": "eff6d4b5-dd9d-4c48-ac96-7b8406c736f3",
   "metadata": {},
   "outputs": [
    {
     "name": "stdout",
     "output_type": "stream",
     "text": [
      "[1] \"--- Wesley Cameo Episodes (Recap) ---\"\n",
      "  episode_number dialog_count\n",
      "1            206          131\n",
      "2            219           71\n",
      "3            263           18\n",
      "4            272           97\n",
      "[1] \"-------------------------------------\"\n",
      "[1] \"--- Wesley's Last Main Cast Line (Episode 183) ---\"\n",
      "  episode_number      dialog\n",
      "1            183 I can walk.\n",
      "[1] \"--------------------------------------------------\"\n",
      "[1] \"--- Wesley's Last Line EVER (Final Cameo) ---\"\n",
      "  episode_number         dialog\n",
      "1            272 Good-bye, Mom.\n",
      "[1] \"---------------------------------------------\"\n"
     ]
    }
   ],
   "source": [
    "library(tidyverse)\n",
    "\n",
    "start_of_season_4 <- 175\n",
    "\n",
    "wesley_post_s3_dialogs <- dialogs_fixed %>%\n",
    "    filter(\n",
    "        character == \"WESLEY\",\n",
    "        episode_number >= start_of_season_4\n",
    "    )\n",
    "\n",
    "wesley_dialog_count_post_s3 <- wesley_post_s3_dialogs %>%\n",
    "\n",
    "    group_by(episode_number) %>%\n",
    "    summarize(\n",
    "        dialog_count = n(),\n",
    "        .groups = \"drop\"\n",
    "    )\n",
    "\n",
    "all_post_s3_episodes <- data.frame(episode_number = start_of_season_4:276)\n",
    "\n",
    "wesley_full_ep_list <- all_post_s3_episodes %>%\n",
    "    left_join(wesley_dialog_count_post_s3, by = \"episode_number\") %>%\n",
    "\n",
    "    mutate(dialog_count = replace_na(dialog_count, 0))\n",
    "\n",
    "wesley_cameo_list <- wesley_full_ep_list %>%\n",
    "    filter(episode_number > 183, dialog_count > 0)\n",
    "\n",
    "print(\"--- Wesley Cameo Episodes (Recap) ---\")\n",
    "print(as.data.frame(wesley_cameo_list))\n",
    "print(\"-------------------------------------\")\n",
    "\n",
    "wesley_last_main_line <- dialogs_fixed %>%\n",
    "    filter(character == \"WESLEY\", episode_number == 183) %>%\n",
    "    slice_tail(n = 1) %>%\n",
    "    select(episode_number, dialog)\n",
    "\n",
    "print(\"--- Wesley's Last Main Cast Line (Episode 183) ---\")\n",
    "print(as.data.frame(wesley_last_main_line))\n",
    "print(\"--------------------------------------------------\")\n",
    "\n",
    "wesley_last_ever_line <- dialogs_fixed %>%\n",
    "    filter(character == \"WESLEY\") %>%\n",
    "    slice_tail(n = 1) %>%\n",
    "    select(episode_number, dialog)\n",
    "\n",
    "print(\"--- Wesley's Last Line EVER (Final Cameo) ---\")\n",
    "print(as.data.frame(wesley_last_ever_line))\n",
    "print(\"---------------------------------------------\")"
   ]
  },
  {
   "cell_type": "markdown",
   "id": "23f9f978-b8a6-4b26-8724-5a4b47c8662b",
   "metadata": {},
   "source": [
    "Question 5"
   ]
  },
  {
   "cell_type": "code",
   "execution_count": 11,
   "id": "124afded-4f58-4fd3-a5fc-e24c06f527ad",
   "metadata": {
    "scrolled": true
   },
   "outputs": [
    {
     "name": "stdout",
     "output_type": "stream",
     "text": [
      "[1] \"--- Wesley Cameo Episodes (Recap) ---\"\n",
      "  episode_number dialog_count\n",
      "1            206          131\n",
      "2            219           71\n",
      "3            263           18\n",
      "4            272           97\n",
      "[1] \"-------------------------------------\"\n",
      "[1] \"--- Wesley's Last Main Cast Line (Episode 183) ---\"\n",
      "  episode_number      dialog\n",
      "1            183 I can walk.\n",
      "[1] \"--------------------------------------------------\"\n",
      "[1] \"--- Wesley's Last Line EVER (Final Cameo) ---\"\n",
      "  episode_number         dialog\n",
      "1            272 Good-bye, Mom.\n",
      "[1] \"---------------------------------------------\"\n",
      "[1] \"--- Mean Dialog Length Heatmap ---\"\n",
      "[1] \"----------------------------------\"\n"
     ]
    },
    {
     "data": {
      "image/png": "[encoded data removed]",
      "text/plain": [
       "plot without title"
      ]
     },
     "metadata": {
      "image/png": {
       "height": 420,
       "width": 420
      }
     },
     "output_type": "display_data"
    }
   ],
   "source": [
    "library(tidyverse)\n",
    "\n",
    "start_of_season_4 <- 175\n",
    "\n",
    "wesley_post_s3_dialogs <- dialogs_fixed %>%\n",
    "    filter(\n",
    "        character == \"WESLEY\",\n",
    "        episode_number >= start_of_season_4\n",
    "    )\n",
    "\n",
    "wesley_dialog_count_post_s3 <- wesley_post_s3_dialogs %>%\n",
    "\n",
    "    group_by(episode_number) %>%\n",
    "    summarize(\n",
    "        dialog_count = n(),\n",
    "        .groups = \"drop\"\n",
    "    )\n",
    "\n",
    "all_post_s3_episodes <- data.frame(episode_number = start_of_season_4:276)\n",
    "\n",
    "wesley_full_ep_list <- all_post_s3_episodes %>%\n",
    "    left_join(wesley_dialog_count_post_s3, by = \"episode_number\") %>%\n",
    "\n",
    "    mutate(dialog_count = replace_na(dialog_count, 0))\n",
    "\n",
    "wesley_cameo_list <- wesley_full_ep_list %>%\n",
    "    filter(episode_number > 183, dialog_count > 0)\n",
    "\n",
    "print(\"--- Wesley Cameo Episodes (Recap) ---\")\n",
    "print(as.data.frame(wesley_cameo_list))\n",
    "print(\"-------------------------------------\")\n",
    "\n",
    "wesley_last_main_line <- dialogs_fixed %>%\n",
    "    filter(character == \"WESLEY\", episode_number == 183) %>%\n",
    "    slice_tail(n = 1) %>%\n",
    "    select(episode_number, dialog)\n",
    "\n",
    "print(\"--- Wesley's Last Main Cast Line (Episode 183) ---\")\n",
    "print(as.data.frame(wesley_last_main_line))\n",
    "print(\"--------------------------------------------------\")\n",
    "\n",
    "wesley_last_ever_line <- dialogs_fixed %>%\n",
    "    filter(character == \"WESLEY\") %>%\n",
    "    slice_tail(n = 1) %>%\n",
    "    select(episode_number, dialog)\n",
    "\n",
    "print(\"--- Wesley's Last Line EVER (Final Cameo) ---\")\n",
    "print(as.data.frame(wesley_last_ever_line))\n",
    "print(\"---------------------------------------------\")\n",
    "\n",
    "dialog_len_per_ep <- dialogs_fixed %>% \n",
    "    group_by(character, episode_number) %>% \n",
    "    summarize(mean_dialog_length = mean(dialog_length), .groups = \"drop\")\n",
    "\n",
    "character_order <- dialog_len_per_ep %>%\n",
    "    group_by(character) %>%\n",
    "    summarize(overall_mean = mean(mean_dialog_length)) %>%\n",
    "    arrange(overall_mean) %>%\n",
    "    pull(character)\n",
    "\n",
    "dialog_len_per_ep <- dialog_len_per_ep %>%\n",
    "    mutate(character = factor(character, levels = character_order))\n",
    "\n",
    "heatmap_plot <- ggplot(dialog_len_per_ep, \n",
    "                       aes(x = as.factor(episode_number), \n",
    "                           y = character, \n",
    "                           fill = mean_dialog_length)) +\n",
    "    geom_tile() +\n",
    "\n",
    "    scale_fill_distiller(palette = \"YlOrRd\", direction = 1, name = \"Mean Dialog\\nLength (chars)\") + \n",
    "\n",
    "    labs(\n",
    "        title = \"Mean Dialog Length per Episode by Character\",\n",
    "        x = \"Episode Number\",\n",
    "        y = \"Character (Sorted by Overall Mean Dialog Length)\"\n",
    "    ) +\n",
    "\n",
    "    theme_minimal() +\n",
    "    theme(\n",
    "        axis.text.x = element_blank(), \n",
    "        axis.ticks.x = element_blank(),\n",
    "        panel.grid = element_blank(), \n",
    "        plot.title = element_text(hjust = 0.5, face = \"bold\")\n",
    "    )\n",
    "\n",
    "print(\"--- Mean Dialog Length Heatmap ---\")\n",
    "print(heatmap_plot)\n",
    "print(\"----------------------------------\")"
   ]
  },
  {
   "cell_type": "code",
   "execution_count": null,
   "id": "0fc4e636-db86-4c0d-850e-06c6858f6574",
   "metadata": {},
   "outputs": [],
   "source": []
  }
 ],
 "metadata": {
  "kernelspec": {
   "display_name": "R",
   "language": "R",
   "name": "ir"
  },
  "language_info": {
   "codemirror_mode": "r",
   "file_extension": ".r",
   "mimetype": "text/x-r-source",
   "name": "R",
   "pygments_lexer": "r",
   "version": "4.3.3"
  }
 },
 "nbformat": 4,
 "nbformat_minor": 5
}
