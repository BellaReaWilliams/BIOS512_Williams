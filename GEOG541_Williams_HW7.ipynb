{
 "cells": [
  {
   "cell_type": "markdown",
   "id": "be03b931-d973-4d64-88e5-be7076e12967",
   "metadata": {},
   "source": [
    "BIOS 512\n",
    "Homework 7\n",
    "Bella Williams"
   ]
  },
  {
   "cell_type": "markdown",
   "id": "299ee75f-d078-4aee-a741-26589a957424",
   "metadata": {},
   "source": [
    "Question 1"
   ]
  },
  {
   "cell_type": "markdown",
   "id": "3f049148-3057-4d99-803e-f5e9bf7f47cc",
   "metadata": {},
   "source": [
    "1) The Tree (Working Directory)\n",
    "2) The Stage (Staging Area)\n",
    "3) The Head (Repository)"
   ]
  },
  {
   "cell_type": "markdown",
   "id": "ceace00e-7bd4-4cbf-be32-70b278915a0a",
   "metadata": {},
   "source": [
    "Question 2"
   ]
  },
  {
   "cell_type": "markdown",
   "id": "53970989-cc1c-4247-86d3-8e09818dab80",
   "metadata": {},
   "source": [
    "A Git patch is essentially a snapshot of the difference (the “diff”) between two versions of your code. For example: between the working directory and the last commit."
   ]
  },
  {
   "cell_type": "markdown",
   "id": "d228a8ac-5f0b-4b63-b23d-8e6b5f2aea0d",
   "metadata": {},
   "source": [
    "Question 3"
   ]
  },
  {
   "cell_type": "markdown",
   "id": "8f782dd7-2da9-498d-b2d2-665340900cc9",
   "metadata": {},
   "source": [
    "Git branch – A branch is a parallel line of development within the same repository. It shares the same history and lives inside the same project. You use branches to work on features or fixes without affecting the main branch until you’re ready to merge.\n",
    "\n",
    "Git fork – A fork is a copy of an entire repository that lives separately, usually under a different user account. It’s used when you don’t have write access to the original repo or want to develop independently."
   ]
  },
  {
   "cell_type": "markdown",
   "id": "691dcc03-2ba1-44a3-8f9a-e3e9d870772c",
   "metadata": {},
   "source": [
    "Question 4"
   ]
  },
  {
   "cell_type": "markdown",
   "id": "ef13303e-379d-4a1d-b3ed-1f7e1f99a44d",
   "metadata": {},
   "source": [
    "git diff shows the differences between two states of your code (your working directory and the last commit). It’s mainly for inspection— you can see what’s changed but not necessarily save it. git patch saves those differences to a file. That file (the patch) can then be applied elsewhere using git apply or git am to reproduce the same changes in another repository or branch."
   ]
  },
  {
   "cell_type": "markdown",
   "id": "d39a7a95-5859-42fe-9c88-d1a2bf9a8f7a",
   "metadata": {},
   "source": [
    "Question 5"
   ]
  },
  {
   "cell_type": "markdown",
   "id": "c09956d5-53d6-44ab-9c2b-f831a49154c8",
   "metadata": {},
   "source": [
    "A) All three lines represent the repository (The Head) part of the Git trinity. The first line is Alice's local repository history, the second line is Bob's local repository history, and the third line is the shared remote repository's history."
   ]
  },
  {
   "cell_type": "markdown",
   "id": "1582ebe0-775f-40d7-b383-273a0f608ef9",
   "metadata": {},
   "source": [
    "B)\n",
    "\n",
    "alice            *-*-*-*-d-e  \n",
    "\n",
    "bob              *-*-*-*-a-b-c\n",
    "\n",
    "origin/main      *-*-*-*-a-b-c\n",
    "\n",
    "#after rebase\n",
    "\n",
    "alice            *-*-*-*-a-b-c-d'-e'\n",
    "\n",
    "bob              *-*-*-*-a-b-c\n",
    "\n",
    "origin/main      *-*-*-*-a-b-c\n",
    "\n",
    "git fetch origin\n",
    "git rebase origin/main   \n",
    "git push --force-with-lease"
   ]
  },
  {
   "cell_type": "markdown",
   "id": "08529dae-5090-4aba-811c-d5a7883a6c42",
   "metadata": {},
   "source": [
    "C) \n",
    "\n",
    "alice            *-*-*-*-d-e  \n",
    "\n",
    "bob              *-*-*-*-a-b-c\n",
    "\n",
    "origin/main      *-*-*-*-a-b-c\n",
    "\n",
    "#after merge\n",
    "\n",
    "alice            *-*-*-*-d-e---m\n",
    "\n",
    "                    \\       /\n",
    "                     \n",
    "bob              *-*-*-*-a-b-c\n",
    "\n",
    "origin/main      *-*-*-*-a-b-c\n",
    "\n",
    "git fetch origin\n",
    "git merge origin/main\n",
    "git add <files>\n",
    "git commit\n",
    "git push"
   ]
  },
  {
   "cell_type": "markdown",
   "id": "11a69ab5-63f2-43a2-982e-a302cb698e4b",
   "metadata": {},
   "source": [
    "D)\n",
    "The better option for Alice is to rebase her commits onto origin/main rather than performing a merge. Rebasing allows her to replay her local changes on top of the latest official branch, producing a clean, linear history that reflects development based on the most current code. Merging is generally reserved for integrating commits from independent forks or external lineages, and is used less frequently in routine collaborative workflows."
   ]
  },
  {
   "cell_type": "markdown",
   "id": "b6aa2514-ba60-43e2-bb73-ce58259dba73",
   "metadata": {},
   "source": [
    "Question 6"
   ]
  },
  {
   "cell_type": "markdown",
   "id": "44317b9e-8c55-471d-bcb4-1b008f245c55",
   "metadata": {},
   "source": [
    "\n",
    "git stash                 B\n",
    "\n",
    "git push          J\n",
    "\n",
    "git clone         N\n",
    "\n",
    "git commit        M\n",
    "\n",
    "git log           A\n",
    "\n",
    "git add -i        K\n",
    "\n",
    "git rebase        P\n",
    "\n",
    "git init          Q\n",
    "\n",
    "git checkout      E\n",
    "\n",
    "git status        F\n",
    "\n",
    "git diff          O\n",
    "\n",
    "git merge         H\n",
    "\n",
    "git add           I \n",
    "\n",
    "git pull          D\n",
    "\n",
    "git show          G \n",
    "\n",
    "git blame         C\n",
    "\n",
    ".gitignore        L\n"
   ]
  },
  {
   "cell_type": "markdown",
   "id": "15e44919-454c-4424-a35e-7be502618e60",
   "metadata": {},
   "source": [
    "Question 7"
   ]
  },
  {
   "cell_type": "markdown",
   "id": "e4fc6fa4-034d-4814-8035-b6c35a383bbb",
   "metadata": {},
   "source": [
    "A) Interactive staging is useful when you have multiple changes in a file but want to selectively stage only certain hunks for a commit."
   ]
  },
  {
   "cell_type": "markdown",
   "id": "65823e42-8d42-4e84-ade3-adaecea737f1",
   "metadata": {},
   "source": [
    "B)\n",
    "\n",
    "git status\n",
    "\n",
    "git diff"
   ]
  },
  {
   "cell_type": "markdown",
   "id": "9a4ad99c-2639-45ca-849b-e1e0417b94b9",
   "metadata": {},
   "source": [
    "C) \n",
    "git add -i"
   ]
  },
  {
   "cell_type": "markdown",
   "id": "c171feb1-1250-45b4-a7f6-0444542da66d",
   "metadata": {},
   "source": [
    "D)\n",
    "5: [p]atch"
   ]
  },
  {
   "cell_type": "markdown",
   "id": "68d7ad90-750f-43fd-a4cc-a41693b73b39",
   "metadata": {},
   "source": [
    "E )\n",
    "Type the number corresponding to the file listed under “Patch update>>”. For example: Patch update>> 1"
   ]
  },
  {
   "cell_type": "markdown",
   "id": "82ddcf7b-b473-44b8-be65-9503c412a5f3",
   "metadata": {},
   "source": [
    "F)\n",
    "Type n when prompted. For example: (1/2) Stage this hunk [y,n,q,a,d,j,J,g,/,e,?]? n"
   ]
  },
  {
   "cell_type": "markdown",
   "id": "bbdc8140-e5a7-48db-be32-f66b99eebd91",
   "metadata": {},
   "source": [
    "G)\n",
    "Type y when prompted. For example: (2/2) Stage this hunk [y,n,q,a,d,K,g,/,e,?]? y"
   ]
  },
  {
   "cell_type": "markdown",
   "id": "2f7cd5b0-f276-4a6b-873d-aa0262fa5ef1",
   "metadata": {},
   "source": [
    "H)\n",
    "\n",
    "* Repeat the process for each hunk.\n",
    "* Split hunks using s if a hunk is too large and you only want part of it.\n",
    "* Type q when done to exit the patch menu and return to the main interactive menu."
   ]
  }
 ],
 "metadata": {
  "kernelspec": {
   "display_name": "R",
   "language": "R",
   "name": "ir"
  },
  "language_info": {
   "codemirror_mode": "r",
   "file_extension": ".r",
   "mimetype": "text/x-r-source",
   "name": "R",
   "pygments_lexer": "r",
   "version": "4.3.3"
  }
 },
 "nbformat": 4,
 "nbformat_minor": 5
}
